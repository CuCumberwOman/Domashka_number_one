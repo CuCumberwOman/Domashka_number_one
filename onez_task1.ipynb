{
 "cells": [
  {
   "cell_type": "code",
   "execution_count": 1,
   "metadata": {},
   "outputs": [],
   "source": [
    "%reload_ext autoreload\n",
    "%autoreload 2"
   ]
  },
  {
   "cell_type": "markdown",
   "metadata": {
    "id": "atqZGIIyNSBb"
   },
   "source": [
    "#**Практическое задание №1**"
   ]
  },
  {
   "cell_type": "markdown",
   "metadata": {
    "id": "0Num5lHV6912"
   },
   "source": [
    "Константы, которые пригодятся в коде далее, и ссылки (gdrive идентификаторы) на предоставляемые наборы данных:"
   ]
  },
  {
   "cell_type": "code",
   "execution_count": 2,
   "metadata": {},
   "outputs": [],
   "source": [
    "GPU = \"cuda:5\""
   ]
  },
  {
   "cell_type": "code",
   "execution_count": 3,
   "metadata": {
    "id": "ab2yCwDm7Fqb"
   },
   "outputs": [],
   "source": [
    "EVALUATE_ONLY = True\n",
    "TEST_ON_LARGE_DATASET = True\n",
    "TISSUE_CLASSES = ('ADI', 'BACK', 'DEB', 'LYM', 'MUC', 'MUS', 'NORM', 'STR', 'TUM')\n",
    "DATASETS_LINKS = {\n",
    "    'train': '1XtQzVQ5XbrfxpLHJuL0XBGJ5U7CS-cLi',\n",
    "    'train_small': '1qd45xXfDwdZjktLFwQb-et-mAaFeCzOR',\n",
    "    'train_tiny': '1I-2ZOuXLd4QwhZQQltp817Kn3J0Xgbui',\n",
    "    'test': '1RfPou3pFKpuHDJZ-D9XDFzgvwpUBFlDr',\n",
    "    'test_small': '1wbRsog0n7uGlHIPGLhyN-PMeT2kdQ2lI',\n",
    "    'test_tiny': '1viiB0s041CNsAK4itvX8PnYthJ-MDnQc'\n",
    "}"
   ]
  },
  {
   "cell_type": "markdown",
   "metadata": {
    "id": "fgY-ux5qOI0k"
   },
   "source": [
    "Импорт необходимых зависимостей:"
   ]
  },
  {
   "cell_type": "code",
   "execution_count": 4,
   "metadata": {
    "id": "kLHQhqiSIyvK"
   },
   "outputs": [],
   "source": [
    "from pathlib import Path\n",
    "import numpy as np\n",
    "from typing import List\n",
    "from tqdm.notebook import tqdm\n",
    "from time import sleep\n",
    "from PIL import Image\n",
    "import IPython.display\n",
    "from sklearn.metrics import balanced_accuracy_score\n",
    "import gdown\n",
    "import os\n",
    "import gc\n",
    "from skimage import feature\n",
    "import pickle\n",
    "from sklearn.ensemble import RandomForestClassifier\n",
    "from sklearn.model_selection import train_test_split\n",
    "from sklearn.base import clone\n",
    "import matplotlib.pyplot as plt\n",
    "from sklearn.model_selection import GridSearchCV"
   ]
  },
  {
   "cell_type": "markdown",
   "metadata": {
    "id": "zKLI3lUyMYO9"
   },
   "source": [
    "---\n",
    "### Класс Dataset\n",
    "\n",
    "Предназначен для работы с наборами данных, обеспечивает чтение изображений и соответствующих меток, а также формирование пакетов (батчей)."
   ]
  },
  {
   "cell_type": "code",
   "execution_count": 5,
   "metadata": {
    "id": "8N169efsw1ej"
   },
   "outputs": [],
   "source": [
    "class Dataset:\n",
    "\n",
    "    def __init__(self, name):\n",
    "        self.name = name\n",
    "        self.is_loaded = False\n",
    "        url = f\"https://drive.google.com/uc?export=download&confirm=pbef&id={DATASETS_LINKS[name]}\"\n",
    "        output = f'{name}.npz'\n",
    "        if not os.path.exists(output):\n",
    "            gdown.download(url, output, quiet=False)\n",
    "        print(f'Loading dataset {self.name} from npz.')\n",
    "        np_obj = np.load(f'{name}.npz')\n",
    "        self.images = np_obj['data']\n",
    "        self.labels = np_obj['labels']\n",
    "        self.n_files = self.images.shape[0]\n",
    "        self.is_loaded = True\n",
    "        print(f'Done. Dataset {name} consists of {self.n_files} images.')\n",
    "\n",
    "    @staticmethod\n",
    "    def hist_feature(image):\n",
    "        radius = 4\n",
    "        n_points = 8 * radius\n",
    "        n_bins = 32\n",
    "        gray = image.mean(axis=-1).astype(\"uint8\")\n",
    "        lbp = feature.local_binary_pattern(gray, n_points, radius, method=\"uniform\")\n",
    "        hist1, _ = np.histogram(lbp, density=True, bins=n_bins, range=(0, n_bins))\n",
    "        hist2 = np.array([np.histogram(image[..., i].ravel(), bins=n_bins)[0] for i in range(3)]).ravel()\n",
    "        return np.concatenate([hist1, hist2])\n",
    "\n",
    "    def to_hist_feature(self):\n",
    "        print(\"Building histogram features...\")\n",
    "        if not hasattr(self, \"histogram_features\"):\n",
    "            try:\n",
    "                from joblib import Parallel, delayed\n",
    "                results = Parallel(n_jobs=-1)(delayed(self.hist_feature)(x) for x in self.images)\n",
    "                self.histogram_features = np.array(results)\n",
    "            except:\n",
    "                self.histogram_features = np.array([self.hist_feature(x) for x in tqdm(self.images)])\n",
    "        return self.histogram_features\n",
    "\n",
    "    def image(self, i):\n",
    "        # read i-th image in dataset and return it as numpy array\n",
    "        if self.is_loaded:\n",
    "            return self.images[i, :, :, :]\n",
    "\n",
    "    def images_seq(self, n=None):\n",
    "        # sequential access to images inside dataset (is needed for testing)\n",
    "        for i in range(self.n_files if not n else n):\n",
    "            yield self.image(i)\n",
    "\n",
    "    def random_image_with_label(self):\n",
    "        # get random image with label from dataset\n",
    "        i = np.random.randint(self.n_files)\n",
    "        return self.image(i), self.labels[i]\n",
    "        \n",
    "    def sample(self, ratio=0.5):\n",
    "        return self.random_batch_with_labels(n=round(self.images.shape[0] * ratio))\n",
    "        \n",
    "    def random_batch_with_labels(self, n):\n",
    "        # create random batch of images with labels (is needed for training)\n",
    "        indices = np.random.choice(self.n_files, n)\n",
    "        imgs = []\n",
    "        for i in indices:\n",
    "            img = self.image(i)\n",
    "            imgs.append(self.image(i))\n",
    "        logits = np.array([self.labels[i] for i in indices])\n",
    "        return np.stack(imgs), logits\n",
    "        \n",
    "    def image_with_label(self, i: int):\n",
    "        # return i-th image with label from dataset\n",
    "        return self.image(i), self.labels[i]"
   ]
  },
  {
   "cell_type": "markdown",
   "metadata": {
    "id": "M-LvGqeHYgus"
   },
   "source": [
    "### Пример использвания класса Dataset\n",
    "Загрузим обучающий набор данных, получим произвольное изображение с меткой. После чего визуализируем изображение, выведем метку. В будущем, этот кусок кода можно закомментировать или убрать."
   ]
  },
  {
   "cell_type": "code",
   "execution_count": 6,
   "metadata": {
    "id": "HhObWEjGJ1um"
   },
   "outputs": [
    {
     "name": "stdout",
     "output_type": "stream",
     "text": [
      "Loading dataset train_tiny from npz.\n",
      "Done. Dataset train_tiny consists of 900 images.\n",
      "\n",
      "Got numpy array of shape (224, 224, 3), and label with code 1.\n",
      "Label code corresponds to BACK class.\n"
     ]
    },
    {
     "data": {
      "image/jpeg": "[encoded data removed]",
      "image/png": "[encoded data removed]",
      "text/plain": [
       "<PIL.Image.Image image mode=RGB size=224x224>"
      ]
     },
     "metadata": {},
     "output_type": "display_data"
    }
   ],
   "source": [
    "d_train_tiny = Dataset('train_tiny')\n",
    "\n",
    "img, lbl = d_train_tiny.random_image_with_label()\n",
    "print()\n",
    "print(f'Got numpy array of shape {img.shape}, and label with code {lbl}.')\n",
    "print(f'Label code corresponds to {TISSUE_CLASSES[lbl]} class.')\n",
    "\n",
    "pil_img = Image.fromarray(img)\n",
    "IPython.display.display(pil_img)"
   ]
  },
  {
   "cell_type": "markdown",
   "metadata": {
    "id": "qaBXXCWeVLYb"
   },
   "source": [
    "---\n",
    "### Класс Metrics\n",
    "\n",
    "Реализует метрики точности, используемые для оценивания модели:\n",
    "1. точность,\n",
    "2. сбалансированную точность."
   ]
  },
  {
   "cell_type": "code",
   "execution_count": 7,
   "metadata": {
    "id": "5unQ7azTinCZ"
   },
   "outputs": [],
   "source": [
    "class Metrics:\n",
    "\n",
    "    @staticmethod\n",
    "    def accuracy(gt: List[int], pred: List[int]):\n",
    "        assert len(gt) == len(pred), 'gt and prediction should be of equal length'\n",
    "        return sum(int(i[0] == i[1]) for i in zip(gt, pred)) / len(gt)\n",
    "\n",
    "    @staticmethod\n",
    "    def accuracy_balanced(gt: List[int], pred: List[int]):\n",
    "        return balanced_accuracy_score(gt, pred)\n",
    "\n",
    "    @staticmethod\n",
    "    def print_all(gt: List[int], pred: List[int], info: str):\n",
    "        print(f'metrics for {info}:')\n",
    "        print('\\t accuracy {:.4f}:'.format(Metrics.accuracy(gt, pred)))\n",
    "        print('\\t balanced accuracy {:.4f}:'.format(Metrics.accuracy_balanced(gt, pred)))"
   ]
  },
  {
   "cell_type": "markdown",
   "metadata": {
    "id": "N1AHzTJVGU5k"
   },
   "source": [
    "---\n",
    "### Класс Model\n",
    "\n",
    "Класс, хранящий в себе всю информацию о модели.\n",
    "\n",
    "Вам необходимо реализовать методы save, load для сохранения и заргрузки модели. Особенно актуально это будет во время тестирования на дополнительных наборах данных.\n",
    "\n",
    "> *Пожалуйста, убедитесь, что сохранение и загрузка модели работает корректно. Для этого обучите модель, протестируйте, сохраните ее в файл, перезапустите среду выполнения, загрузите обученную модель из файла, вновь протестируйте ее на тестовой выборке и убедитесь в том, что получаемые метрики совпадают с полученными для тестовой выбрки ранее.*\n",
    "\n",
    "\n",
    "Также, Вы можете реализовать дополнительные функции, такие как:\n",
    "1. валидацию модели на части обучающей выборки;\n",
    "2. использование кроссвалидации;\n",
    "3. автоматическое сохранение модели при обучении;\n",
    "4. загрузку модели с какой-то конкретной итерации обучения (если используется итеративное обучение);\n",
    "5. вывод различных показателей в процессе обучения (например, значение функции потерь на каждой эпохе);\n",
    "6. построение графиков, визуализирующих процесс обучения (например, график зависимости функции потерь от номера эпохи обучения);\n",
    "7. автоматическое тестирование на тестовом наборе/наборах данных после каждой эпохи обучения (при использовании итеративного обучения);\n",
    "8. автоматический выбор гиперпараметров модели во время обучения;\n",
    "9. сохранение и визуализацию результатов тестирования;\n",
    "10. Использование аугментации и других способов синтетического расширения набора данных (дополнительным плюсом будет обоснование необходимости и обоснование выбора конкретных типов аугментации)\n",
    "11. и т.д.\n",
    "\n",
    "Полный список опций и дополнений приведен в презентации с описанием задания.\n",
    "\n",
    "При реализации дополнительных функций допускается добавление параметров в существующие методы и добавление новых методов в класс модели."
   ]
  },
  {
   "cell_type": "code",
   "execution_count": 8,
   "metadata": {},
   "outputs": [],
   "source": [
    "# Вариант модели 1: Случайный лес\n",
    "class Model:\n",
    "\n",
    "    def __init__(self, random_state=0):\n",
    "        self.random_state = random_state\n",
    "        self.estimator = RandomForestClassifier(\n",
    "            n_estimators=10, max_depth=None, min_samples_split=5, min_samples_leaf=5,\n",
    "            oob_score=False, n_jobs=-1, max_samples=0.75, warm_start=True, random_state=random_state)\n",
    "\n",
    "    def save(self, name: str = \"one_model\"):\n",
    "        with open(name, \"wb\") as handler:\n",
    "            pickle.dump(self.estimator, handler)\n",
    "    \n",
    "    def load(self, name: str = None):\n",
    "        if name == None:\n",
    "            name = \"https://drive.google.com/uc?id=1RQCcKRlcPMoVTIlniF5YT9hx-e2AtKrK\"\n",
    "        if os.path.exists(name): # load as file\n",
    "            with open(name, \"rb\") as handler:\n",
    "                self.estimator = pickle.load(handler)\n",
    "            return self\n",
    "        else: # load a google drive file\n",
    "            output = \"rf_big_model.pickle\"\n",
    "            gdown.download(name, output, quiet=False)\n",
    "            return self.load(output)\n",
    "\n",
    "    # Кросс-валидация по каждому из параметров отдельно #LBL2\n",
    "    # Запускалось отдельно для проставления в ___init__ ввиду длительности работы\n",
    "    # Автоматический подбор гиперпараметров  #LBL7\n",
    "    def find_best_params(self, grid, dataset:Dataset, cv=3):\n",
    "        result = {}\n",
    "        X = dataset.to_hist_feature() # Если удается то параллельно, но тогда не будет прогресса видно...\n",
    "        y = dataset.labels #LBL1\n",
    "        print(\"Grid search for best params...\")\n",
    "        for param, values in tqdm(grid.items()):\n",
    "            result[param] = GridSearchCV(self.estimator, param_grid=grid, cv=cv).fit(X, y).best_params_[param]\n",
    "        return result\n",
    "\n",
    "    # Установить заданные параметры в модель\n",
    "    def set_params(self, params): #LBL7\n",
    "        self.estimator.set_params(**params)\n",
    "    \n",
    "    @staticmethod\n",
    "    def name_iter(i):\n",
    "        return \"model_iter_\" + str(i)\n",
    "\n",
    "    # Загружаем модель с итерации (не все доступны, только улучшающие - для экономии времени работы)\n",
    "    def load_iter(self, i):\n",
    "        return self.load(self.name_iter(i))  #LBL4\n",
    "\n",
    "    # Сохраняем модель с итерации\n",
    "    def save_iter(self, i):\n",
    "        return self.save(self.name_iter(i)) \n",
    "\n",
    "    # Простые аугментации не подходят ввиду выбора классических признаков\n",
    "    def train(self, dataset: Dataset, train_size: float = 0.75, max_trees: int = 200):\n",
    "        print(f'training started')\n",
    "        X = dataset.to_hist_feature() # Если удается то параллельно, но тогда не будет прогресса видно...\n",
    "        y = dataset.labels\n",
    "        # LBL1\n",
    "        X_train, X_val, y_train, y_val = \\\n",
    "            train_test_split(X, y, shuffle=True, train_size=train_size, stratify=y, random_state=self.random_state)\n",
    "        # Используем валидационную выборку для подбора числа деревьев\n",
    "        best_score = 0\n",
    "        best_iter = 0\n",
    "        history_train = []\n",
    "        history_val = []\n",
    "        model = clone(self.estimator)\n",
    "        step = 5\n",
    "        print(\"fitting model...\")\n",
    "        for i in tqdm(range((max_trees - model.n_estimators) // step)):\n",
    "            model.fit(X_train, y_train)\n",
    "            model.n_estimators += step # Добавляем 5 деревьев к ансамблю\n",
    "            val_score = model.score(X_val, y_val)\n",
    "            train_score = model.score(X_train, y_train)\n",
    "            history_train.append(val_score) # Сохраняем историю тестирования на валидации\n",
    "            history_val.append(train_score) # Сохраняем историю тестирования на тренировочной выборке\n",
    "            print(\"Trees:\", model.n_estimators, \"| Score:\", val_score) # #LBL5 Вывод информации об итерациях\n",
    "            if best_score < val_score: # Тестируем на валидационной выборке на каждой итерации #LBL7\n",
    "                best_score = val_score\n",
    "                best_iter = i\n",
    "                self.estimator = model\n",
    "                self.save_iter(i) # #LBL3 Автоматически сохраняем итерацию что улучшает качество\n",
    "        self.load_iter(best_iter) # Загружаем лучшую итерацию #LBL4\n",
    "        plt.plot(history_train, label=\"train\") # График качества от числа деревьев #LBL6\n",
    "        plt.plot(history_val, label=\"validation\") # График качества от числа деревьев #LBL6\n",
    "        plt.legend() #LBL6\n",
    "        plt.show()\n",
    "        Metrics.print_all(y_train, self.estimator.predict(X_train), 'train')\n",
    "        Metrics.print_all(y_val, self.estimator.predict(X_val), 'validation')\n",
    "        # Здесь можно было бы обучить модель на всем тренировочном наборе\n",
    "        print(f'training done')\n",
    "\n",
    "    def test_on_dataset(self, dataset: Dataset, limit=None):\n",
    "        X = dataset.to_hist_feature()\n",
    "        n = dataset.n_files if not limit else int(dataset.n_files * limit)\n",
    "        X = X[:n]\n",
    "        predictions = self.estimator.predict(X)\n",
    "        return predictions\n",
    "    \n",
    "    def test_on_image(self, img: np.ndarray):\n",
    "        prediction = np.self.estimator.predict(img[np.newaxis])[0]\n",
    "        return prediction\n",
    "\n",
    "    def eval(self, dataset: Dataset, label=\"test\"):\n",
    "        prediction = self.test_on_dataset(dataset)\n",
    "        Metrics.print_all(dataset.labels, prediction, label)"
   ]
  },
  {
   "cell_type": "markdown",
   "metadata": {},
   "source": [
    "# Проверка загрузки"
   ]
  },
  {
   "cell_type": "code",
   "execution_count": 9,
   "metadata": {},
   "outputs": [
    {
     "name": "stdout",
     "output_type": "stream",
     "text": [
      "Loading dataset train_tiny from npz.\n",
      "Done. Dataset train_tiny consists of 900 images.\n",
      "Loading dataset test_tiny from npz.\n",
      "Done. Dataset test_tiny consists of 90 images.\n"
     ]
    }
   ],
   "source": [
    "tiny_train = Dataset('train_tiny')\n",
    "tiny_test = Dataset('test_tiny')"
   ]
  },
  {
   "cell_type": "code",
   "execution_count": 10,
   "metadata": {},
   "outputs": [
    {
     "name": "stderr",
     "output_type": "stream",
     "text": [
      "Downloading...\n",
      "From: https://drive.google.com/uc?id=1RQCcKRlcPMoVTIlniF5YT9hx-e2AtKrK\n",
      "To: /home/n.onezhko/cvcourse/rf_big_model.pickle\n",
      "100%|██████████| 29.8M/29.8M [00:00<00:00, 70.5MB/s]"
     ]
    },
    {
     "name": "stdout",
     "output_type": "stream",
     "text": [
      "Building histogram features...\n"
     ]
    },
    {
     "name": "stderr",
     "output_type": "stream",
     "text": [
      "\n"
     ]
    },
    {
     "name": "stdout",
     "output_type": "stream",
     "text": [
      "metrics for test:\n",
      "\t accuracy 0.9111:\n",
      "\t balanced accuracy 0.9111:\n"
     ]
    }
   ],
   "source": [
    "model_loaded = Model().load()\n",
    "model_loaded.eval(tiny_test)"
   ]
  },
  {
   "cell_type": "code",
   "execution_count": 11,
   "metadata": {},
   "outputs": [
    {
     "data": {
      "text/html": [
       "<style>#sk-container-id-1 {color: black;}#sk-container-id-1 pre{padding: 0;}#sk-container-id-1 div.sk-toggleable {background-color: white;}#sk-container-id-1 label.sk-toggleable__label {cursor: pointer;display: block;width: 100%;margin-bottom: 0;padding: 0.3em;box-sizing: border-box;text-align: center;}#sk-container-id-1 label.sk-toggleable__label-arrow:before {content: \"▸\";float: left;margin-right: 0.25em;color: #696969;}#sk-container-id-1 label.sk-toggleable__label-arrow:hover:before {color: black;}#sk-container-id-1 div.sk-estimator:hover label.sk-toggleable__label-arrow:before {color: black;}#sk-container-id-1 div.sk-toggleable__content {max-height: 0;max-width: 0;overflow: hidden;text-align: left;background-color: #f0f8ff;}#sk-container-id-1 div.sk-toggleable__content pre {margin: 0.2em;color: black;border-radius: 0.25em;background-color: #f0f8ff;}#sk-container-id-1 input.sk-toggleable__control:checked~div.sk-toggleable__content {max-height: 200px;max-width: 100%;overflow: auto;}#sk-container-id-1 input.sk-toggleable__control:checked~label.sk-toggleable__label-arrow:before {content: \"▾\";}#sk-container-id-1 div.sk-estimator input.sk-toggleable__control:checked~label.sk-toggleable__label {background-color: #d4ebff;}#sk-container-id-1 div.sk-label input.sk-toggleable__control:checked~label.sk-toggleable__label {background-color: #d4ebff;}#sk-container-id-1 input.sk-hidden--visually {border: 0;clip: rect(1px 1px 1px 1px);clip: rect(1px, 1px, 1px, 1px);height: 1px;margin: -1px;overflow: hidden;padding: 0;position: absolute;width: 1px;}#sk-container-id-1 div.sk-estimator {font-family: monospace;background-color: #f0f8ff;border: 1px dotted black;border-radius: 0.25em;box-sizing: border-box;margin-bottom: 0.5em;}#sk-container-id-1 div.sk-estimator:hover {background-color: #d4ebff;}#sk-container-id-1 div.sk-parallel-item::after {content: \"\";width: 100%;border-bottom: 1px solid gray;flex-grow: 1;}#sk-container-id-1 div.sk-label:hover label.sk-toggleable__label {background-color: #d4ebff;}#sk-container-id-1 div.sk-serial::before {content: \"\";position: absolute;border-left: 1px solid gray;box-sizing: border-box;top: 0;bottom: 0;left: 50%;z-index: 0;}#sk-container-id-1 div.sk-serial {display: flex;flex-direction: column;align-items: center;background-color: white;padding-right: 0.2em;padding-left: 0.2em;position: relative;}#sk-container-id-1 div.sk-item {position: relative;z-index: 1;}#sk-container-id-1 div.sk-parallel {display: flex;align-items: stretch;justify-content: center;background-color: white;position: relative;}#sk-container-id-1 div.sk-item::before, #sk-container-id-1 div.sk-parallel-item::before {content: \"\";position: absolute;border-left: 1px solid gray;box-sizing: border-box;top: 0;bottom: 0;left: 50%;z-index: -1;}#sk-container-id-1 div.sk-parallel-item {display: flex;flex-direction: column;z-index: 1;position: relative;background-color: white;}#sk-container-id-1 div.sk-parallel-item:first-child::after {align-self: flex-end;width: 50%;}#sk-container-id-1 div.sk-parallel-item:last-child::after {align-self: flex-start;width: 50%;}#sk-container-id-1 div.sk-parallel-item:only-child::after {width: 0;}#sk-container-id-1 div.sk-dashed-wrapped {border: 1px dashed gray;margin: 0 0.4em 0.5em 0.4em;box-sizing: border-box;padding-bottom: 0.4em;background-color: white;}#sk-container-id-1 div.sk-label label {font-family: monospace;font-weight: bold;display: inline-block;line-height: 1.2em;}#sk-container-id-1 div.sk-label-container {text-align: center;}#sk-container-id-1 div.sk-container {/* jupyter's `normalize.less` sets `[hidden] { display: none; }` but bootstrap.min.css set `[hidden] { display: none !important; }` so we also need the `!important` here to be able to override the default hidden behavior on the sphinx rendered scikit-learn.org. See: https://github.com/scikit-learn/scikit-learn/issues/21755 */display: inline-block !important;position: relative;}#sk-container-id-1 div.sk-text-repr-fallback {display: none;}</style><div id=\"sk-container-id-1\" class=\"sk-top-container\"><div class=\"sk-text-repr-fallback\"><pre>RandomForestClassifier(criterion=&#x27;entropy&#x27;, max_samples=0.75,\n",
       "                       min_samples_leaf=5, min_samples_split=5,\n",
       "                       n_estimators=210, n_jobs=-1, random_state=42,\n",
       "                       warm_start=True)</pre><b>In a Jupyter environment, please rerun this cell to show the HTML representation or trust the notebook. <br />On GitHub, the HTML representation is unable to render, please try loading this page with nbviewer.org.</b></div><div class=\"sk-container\" hidden><div class=\"sk-item\"><div class=\"sk-estimator sk-toggleable\"><input class=\"sk-toggleable__control sk-hidden--visually\" id=\"sk-estimator-id-1\" type=\"checkbox\" checked><label for=\"sk-estimator-id-1\" class=\"sk-toggleable__label sk-toggleable__label-arrow\">RandomForestClassifier</label><div class=\"sk-toggleable__content\"><pre>RandomForestClassifier(criterion=&#x27;entropy&#x27;, max_samples=0.75,\n",
       "                       min_samples_leaf=5, min_samples_split=5,\n",
       "                       n_estimators=210, n_jobs=-1, random_state=42,\n",
       "                       warm_start=True)</pre></div></div></div></div></div>"
      ],
      "text/plain": [
       "RandomForestClassifier(criterion='entropy', max_samples=0.75,\n",
       "                       min_samples_leaf=5, min_samples_split=5,\n",
       "                       n_estimators=210, n_jobs=-1, random_state=42,\n",
       "                       warm_start=True)"
      ]
     },
     "execution_count": 11,
     "metadata": {},
     "output_type": "execute_result"
    }
   ],
   "source": [
    "model_loaded.estimator"
   ]
  },
  {
   "cell_type": "markdown",
   "metadata": {},
   "source": [
    "# Обучаем модель (Проверка что работает)"
   ]
  },
  {
   "cell_type": "code",
   "execution_count": 12,
   "metadata": {},
   "outputs": [
    {
     "name": "stdout",
     "output_type": "stream",
     "text": [
      "Loading dataset train_small from npz.\n",
      "Done. Dataset train_small consists of 7200 images.\n",
      "Loading dataset test_small from npz.\n",
      "Done. Dataset test_small consists of 1800 images.\n"
     ]
    }
   ],
   "source": [
    "small_train = Dataset('train_small')\n",
    "small_test = Dataset('test_small')"
   ]
  },
  {
   "cell_type": "code",
   "execution_count": 13,
   "metadata": {},
   "outputs": [],
   "source": [
    "classic = Model(random_state=0)"
   ]
  },
  {
   "cell_type": "code",
   "execution_count": 14,
   "metadata": {},
   "outputs": [
    {
     "name": "stdout",
     "output_type": "stream",
     "text": [
      "Building histogram features...\n",
      "Grid search for best params...\n"
     ]
    },
    {
     "data": {
      "application/vnd.jupyter.widget-view+json": {
       "model_id": "4fd732517b2b4d34ac7b2defd2343ef2",
       "version_major": 2,
       "version_minor": 0
      },
      "text/plain": [
       "  0%|          | 0/1 [00:00<?, ?it/s]"
      ]
     },
     "metadata": {},
     "output_type": "display_data"
    },
    {
     "data": {
      "text/plain": [
       "{'criterion': 'entropy'}"
      ]
     },
     "execution_count": 14,
     "metadata": {},
     "output_type": "execute_result"
    }
   ],
   "source": [
    "best_params = classic.find_best_params(grid=dict(\n",
    "    #min_samples_split=[5, 10],\n",
    "    #min_samples_leaf=[5, 10, 20, 30],\n",
    "    #max_depth=[2, 4, None],\n",
    "    #max_leaf_nodes=[2, 4, 8, 16, 32, None],\n",
    "    #max_samples=[0.25, 0.5, 0.75],\n",
    "    criterion=[\"gini\", \"entropy\", \"log_loss\"]\n",
    "), dataset=small_train)\n",
    "best_params"
   ]
  },
  {
   "cell_type": "code",
   "execution_count": 15,
   "metadata": {},
   "outputs": [],
   "source": [
    "classic.set_params(best_params)"
   ]
  },
  {
   "cell_type": "code",
   "execution_count": 16,
   "metadata": {},
   "outputs": [
    {
     "name": "stdout",
     "output_type": "stream",
     "text": [
      "training started\n",
      "Building histogram features...\n",
      "fitting model...\n"
     ]
    },
    {
     "data": {
      "application/vnd.jupyter.widget-view+json": {
       "model_id": "81408b6845804255ac852265ed5da3ef",
       "version_major": 2,
       "version_minor": 0
      },
      "text/plain": [
       "  0%|          | 0/18 [00:00<?, ?it/s]"
      ]
     },
     "metadata": {},
     "output_type": "display_data"
    },
    {
     "name": "stdout",
     "output_type": "stream",
     "text": [
      "Trees: 15 | Score: 0.855\n",
      "Trees: 20 | Score: 0.8555555555555555\n",
      "Trees: 25 | Score: 0.8588888888888889\n",
      "Trees: 30 | Score: 0.8655555555555555\n",
      "Trees: 35 | Score: 0.8683333333333333\n",
      "Trees: 40 | Score: 0.8694444444444445\n",
      "Trees: 45 | Score: 0.8722222222222222\n",
      "Trees: 50 | Score: 0.8688888888888889\n",
      "Trees: 55 | Score: 0.8727777777777778\n",
      "Trees: 60 | Score: 0.8694444444444445\n",
      "Trees: 65 | Score: 0.8705555555555555\n",
      "Trees: 70 | Score: 0.87\n",
      "Trees: 75 | Score: 0.8694444444444445\n",
      "Trees: 80 | Score: 0.8744444444444445\n",
      "Trees: 85 | Score: 0.8744444444444445\n",
      "Trees: 90 | Score: 0.8744444444444445\n",
      "Trees: 95 | Score: 0.8738888888888889\n",
      "Trees: 100 | Score: 0.875\n"
     ]
    },
    {
     "data": {
      "image/png": "[encoded data removed]",
      "text/plain": [
       "<Figure size 640x480 with 1 Axes>"
      ]
     },
     "metadata": {},
     "output_type": "display_data"
    },
    {
     "name": "stdout",
     "output_type": "stream",
     "text": [
      "metrics for train:\n",
      "\t accuracy 0.9626:\n",
      "\t balanced accuracy 0.9626:\n",
      "metrics for validation:\n",
      "\t accuracy 0.8750:\n",
      "\t balanced accuracy 0.8750:\n",
      "training done\n",
      "Building histogram features...\n",
      "metrics for test:\n",
      "\t accuracy 0.8622:\n",
      "\t balanced accuracy 0.8622:\n"
     ]
    }
   ],
   "source": [
    "classic.train(small_train, max_trees=100)\n",
    "classic.eval(small_test)"
   ]
  },
  {
   "cell_type": "markdown",
   "metadata": {},
   "source": [
    "# Итоговая модель"
   ]
  },
  {
   "cell_type": "code",
   "execution_count": 17,
   "metadata": {},
   "outputs": [
    {
     "name": "stdout",
     "output_type": "stream",
     "text": [
      "Loading dataset train from npz.\n",
      "Done. Dataset train consists of 18000 images.\n",
      "Loading dataset test from npz.\n",
      "Done. Dataset test consists of 4500 images.\n"
     ]
    }
   ],
   "source": [
    "big_train = Dataset('train')\n",
    "big_test = Dataset('test')"
   ]
  },
  {
   "cell_type": "code",
   "execution_count": 18,
   "metadata": {},
   "outputs": [],
   "source": [
    "classic_big = Model(random_state=42)\n",
    "classic_big.set_params(best_params)"
   ]
  },
  {
   "cell_type": "code",
   "execution_count": 19,
   "metadata": {},
   "outputs": [
    {
     "name": "stdout",
     "output_type": "stream",
     "text": [
      "training started\n",
      "Building histogram features...\n",
      "fitting model...\n"
     ]
    },
    {
     "data": {
      "application/vnd.jupyter.widget-view+json": {
       "model_id": "b8cf640245984049aeeea451669e1ea5",
       "version_major": 2,
       "version_minor": 0
      },
      "text/plain": [
       "  0%|          | 0/78 [00:00<?, ?it/s]"
      ]
     },
     "metadata": {},
     "output_type": "display_data"
    },
    {
     "name": "stdout",
     "output_type": "stream",
     "text": [
      "Trees: 15 | Score: 0.878\n",
      "Trees: 20 | Score: 0.8822222222222222\n",
      "Trees: 25 | Score: 0.8886666666666667\n",
      "Trees: 30 | Score: 0.8913333333333333\n",
      "Trees: 35 | Score: 0.8928888888888888\n",
      "Trees: 40 | Score: 0.8937777777777778\n",
      "Trees: 45 | Score: 0.896\n",
      "Trees: 50 | Score: 0.8951111111111111\n",
      "Trees: 55 | Score: 0.8953333333333333\n",
      "Trees: 60 | Score: 0.8966666666666666\n",
      "Trees: 65 | Score: 0.8966666666666666\n",
      "Trees: 70 | Score: 0.898\n",
      "Trees: 75 | Score: 0.898\n",
      "Trees: 80 | Score: 0.8977777777777778\n",
      "Trees: 85 | Score: 0.8991111111111111\n",
      "Trees: 90 | Score: 0.8988888888888888\n",
      "Trees: 95 | Score: 0.898\n",
      "Trees: 100 | Score: 0.8995555555555556\n",
      "Trees: 105 | Score: 0.8986666666666666\n",
      "Trees: 110 | Score: 0.8982222222222223\n",
      "Trees: 115 | Score: 0.9\n",
      "Trees: 120 | Score: 0.8984444444444445\n",
      "Trees: 125 | Score: 0.8982222222222223\n",
      "Trees: 130 | Score: 0.8975555555555556\n",
      "Trees: 135 | Score: 0.898\n",
      "Trees: 140 | Score: 0.8986666666666666\n",
      "Trees: 145 | Score: 0.8971111111111111\n",
      "Trees: 150 | Score: 0.8991111111111111\n",
      "Trees: 155 | Score: 0.8991111111111111\n",
      "Trees: 160 | Score: 0.8988888888888888\n",
      "Trees: 165 | Score: 0.9\n",
      "Trees: 170 | Score: 0.9004444444444445\n",
      "Trees: 175 | Score: 0.9004444444444445\n",
      "Trees: 180 | Score: 0.9011111111111111\n",
      "Trees: 185 | Score: 0.9006666666666666\n",
      "Trees: 190 | Score: 0.9\n",
      "Trees: 195 | Score: 0.9\n",
      "Trees: 200 | Score: 0.8997777777777778\n",
      "Trees: 205 | Score: 0.8997777777777778\n",
      "Trees: 210 | Score: 0.9013333333333333\n",
      "Trees: 215 | Score: 0.9008888888888889\n",
      "Trees: 220 | Score: 0.9002222222222223\n",
      "Trees: 225 | Score: 0.8997777777777778\n",
      "Trees: 230 | Score: 0.8993333333333333\n",
      "Trees: 235 | Score: 0.8991111111111111\n",
      "Trees: 240 | Score: 0.8988888888888888\n",
      "Trees: 245 | Score: 0.8982222222222223\n",
      "Trees: 250 | Score: 0.8971111111111111\n",
      "Trees: 255 | Score: 0.8968888888888888\n",
      "Trees: 260 | Score: 0.8977777777777778\n",
      "Trees: 265 | Score: 0.8975555555555556\n",
      "Trees: 270 | Score: 0.8973333333333333\n",
      "Trees: 275 | Score: 0.8986666666666666\n",
      "Trees: 280 | Score: 0.8993333333333333\n",
      "Trees: 285 | Score: 0.8988888888888888\n",
      "Trees: 290 | Score: 0.8991111111111111\n",
      "Trees: 295 | Score: 0.8986666666666666\n",
      "Trees: 300 | Score: 0.8993333333333333\n",
      "Trees: 305 | Score: 0.9002222222222223\n",
      "Trees: 310 | Score: 0.9\n",
      "Trees: 315 | Score: 0.9\n",
      "Trees: 320 | Score: 0.9\n",
      "Trees: 325 | Score: 0.8997777777777778\n",
      "Trees: 330 | Score: 0.8993333333333333\n",
      "Trees: 335 | Score: 0.8988888888888888\n",
      "Trees: 340 | Score: 0.8991111111111111\n",
      "Trees: 345 | Score: 0.8993333333333333\n",
      "Trees: 350 | Score: 0.8995555555555556\n",
      "Trees: 355 | Score: 0.8988888888888888\n",
      "Trees: 360 | Score: 0.8988888888888888\n",
      "Trees: 365 | Score: 0.8986666666666666\n",
      "Trees: 370 | Score: 0.8984444444444445\n",
      "Trees: 375 | Score: 0.8986666666666666\n",
      "Trees: 380 | Score: 0.8991111111111111\n",
      "Trees: 385 | Score: 0.8991111111111111\n",
      "Trees: 390 | Score: 0.8993333333333333\n",
      "Trees: 395 | Score: 0.8988888888888888\n",
      "Trees: 400 | Score: 0.8995555555555556\n"
     ]
    },
    {
     "data": {
      "image/png": "[encoded data removed]",
      "text/plain": [
       "<Figure size 640x480 with 1 Axes>"
      ]
     },
     "metadata": {},
     "output_type": "display_data"
    },
    {
     "name": "stdout",
     "output_type": "stream",
     "text": [
      "metrics for train:\n",
      "\t accuracy 0.9700:\n",
      "\t balanced accuracy 0.9700:\n",
      "metrics for validation:\n",
      "\t accuracy 0.9013:\n",
      "\t balanced accuracy 0.9013:\n",
      "training done\n"
     ]
    }
   ],
   "source": [
    "classic_big.train(big_train, max_trees=400)"
   ]
  },
  {
   "cell_type": "code",
   "execution_count": 20,
   "metadata": {},
   "outputs": [
    {
     "name": "stdout",
     "output_type": "stream",
     "text": [
      "Building histogram features...\n",
      "metrics for test:\n",
      "\t accuracy 0.9013:\n",
      "\t balanced accuracy 0.9013:\n"
     ]
    }
   ],
   "source": [
    "classic_big.eval(big_test)"
   ]
  },
  {
   "cell_type": "code",
   "execution_count": 21,
   "metadata": {},
   "outputs": [],
   "source": [
    "classic_big.save(\"rf_big_model\")"
   ]
  },
  {
   "cell_type": "code",
   "execution_count": null,
   "metadata": {},
   "outputs": [],
   "source": []
  },
  {
   "cell_type": "code",
   "execution_count": null,
   "metadata": {},
   "outputs": [],
   "source": []
  },
  {
   "cell_type": "code",
   "execution_count": null,
   "metadata": {},
   "outputs": [],
   "source": []
  }
 ],
 "metadata": {
  "accelerator": "GPU",
  "colab": {
   "gpuType": "T4",
   "provenance": []
  },
  "kernelspec": {
   "display_name": "Python 3 (ipykernel)",
   "language": "python",
   "name": "python3"
  },
  "language_info": {
   "codemirror_mode": {
    "name": "ipython",
    "version": 3
   },
   "file_extension": ".py",
   "mimetype": "text/x-python",
   "name": "python",
   "nbconvert_exporter": "python",
   "pygments_lexer": "ipython3",
   "version": "3.8.10"
  },
  "vscode": {
   "interpreter": {
    "hash": "7af69d84c46e0da4f71f361435e72c01e713b5d1fcbc89c051c042527a934273"
   }
  }
 },
 "nbformat": 4,
 "nbformat_minor": 4
}
